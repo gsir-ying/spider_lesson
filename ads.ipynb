{
 "cells": [
  {
   "cell_type": "code",
   "execution_count": 1,
   "metadata": {
    "slideshow": {
     "slide_type": "slide"
    }
   },
   "outputs": [],
   "source": [
    "import requests\n",
    "from lxml import html\n",
    "from bs4 import BeautifulSoup"
   ]
  },
  {
   "cell_type": "markdown",
   "metadata": {
    "slideshow": {
     "slide_type": "slide"
    }
   },
   "source": [
    "分析页面，查询动作是怎样完成的？\n",
    "http://adsabs.harvard.edu/abstract_service.html"
   ]
  },
  {
   "cell_type": "code",
   "execution_count": 2,
   "metadata": {
    "slideshow": {
     "slide_type": "slide"
    }
   },
   "outputs": [
    {
     "name": "stdout",
     "output_type": "stream",
     "text": [
      "http://adsabs.harvard.edu/cgi-bin/nph-abs_connect?db_key=AST&db_key=PRE&qform=AST&arxiv_sel=astro-ph&arxiv_sel=cond-mat&arxiv_sel=cs&arxiv_sel=gr-qc&arxiv_sel=hep-ex&arxiv_sel=hep-lat&arxiv_sel=hep-ph&arxiv_sel=hep-th&arxiv_sel=math&arxiv_sel=math-ph&arxiv_sel=nlin&arxiv_sel=nucl-ex&arxiv_sel=nucl-th&arxiv_sel=physics&arxiv_sel=quant-ph&arxiv_sel=q-bio&sim_query=YES&ned_query=YES&adsobj_query=YES&aut_logic=OR&obj_logic=And&author=feng&object=&start_mon=1&start_year=2018&end_mon=12&end_year=2018&ttl_logic=OR&title=&txt_logic=OR&text=&nr_to_return=200&start_nr=1&jou_pick=ALL&ref_stems=&data_and=ALL&group_and=ALL&start_entry_day=&start_entry_mon=&start_entry_year=&end_entry_day=&end_entry_mon=&end_entry_year=&min_score=&sort=SCORE&data_type=SHORT&aut_syn=YES&ttl_syn=YES&txt_syn=YES&aut_wt=1.0&obj_wt=1.0&ttl_wt=0.3&txt_wt=3.0&aut_wgt=YES&obj_wgt=YES&ttl_wgt=YES&txt_wgt=YES&ttl_sco=YES&txt_sco=YES&version=1\n"
     ]
    }
   ],
   "source": [
    "url_template = 'http://adsabs.harvard.edu/cgi-bin/nph-abs_connect?db_key=AST&db_key=PRE&qform=AST&arxiv_sel=astro-ph&arxiv_sel=cond-mat&arxiv_sel=cs&arxiv_sel=gr-qc&arxiv_sel=hep-ex&arxiv_sel=hep-lat&arxiv_sel=hep-ph&arxiv_sel=hep-th&arxiv_sel=math&arxiv_sel=math-ph&arxiv_sel=nlin&arxiv_sel=nucl-ex&arxiv_sel=nucl-th&arxiv_sel=physics&arxiv_sel=quant-ph&arxiv_sel=q-bio&sim_query=YES&ned_query=YES&adsobj_query=YES&aut_logic=OR&obj_logic={}&author={}&object=&start_mon={}&start_year={}&end_mon={}&end_year={}&ttl_logic={}&title={}&txt_logic=OR&text=&nr_to_return=200&start_nr=1&jou_pick=ALL&ref_stems=&data_and=ALL&group_and=ALL&start_entry_day=&start_entry_mon=&start_entry_year=&end_entry_day=&end_entry_mon=&end_entry_year=&min_score=&sort=SCORE&data_type=SHORT&aut_syn=YES&ttl_syn=YES&txt_syn=YES&aut_wt=1.0&obj_wt=1.0&ttl_wt=0.3&txt_wt=3.0&aut_wgt=YES&obj_wgt=YES&ttl_wgt=YES&txt_wgt=YES&ttl_sco=YES&txt_sco=YES&version=1'\n",
    "\n",
    "author = 'feng'\n",
    "author_logic = 'And'\n",
    "title = ''\n",
    "title_logic = 'OR'\n",
    "start_mon = '1'\n",
    "start_year = '2018'\n",
    "end_mon = '12'\n",
    "end_year = '2018'\n",
    "url = url_template.format(author_logic, author, start_mon, start_year, end_mon, end_year, title_logic, title, )\n",
    "print(url)"
   ]
  },
  {
   "cell_type": "code",
   "execution_count": 3,
   "metadata": {
    "slideshow": {
     "slide_type": "slide"
    }
   },
   "outputs": [],
   "source": [
    "tree = html.fromstring(requests.get(url).content)"
   ]
  },
  {
   "cell_type": "code",
   "execution_count": 6,
   "metadata": {
    "slideshow": {
     "slide_type": "slide"
    }
   },
   "outputs": [
    {
     "name": "stdout",
     "output_type": "stream",
     "text": [
      "200\n"
     ]
    }
   ],
   "source": [
    "trs = tree.xpath('/html/body/form[1]/table[2]//tr[position()>3]')\n",
    "num = len(trs) // 3\n",
    "print(num)"
   ]
  },
  {
   "cell_type": "code",
   "execution_count": 7,
   "metadata": {
    "slideshow": {
     "slide_type": "slide"
    }
   },
   "outputs": [
    {
     "name": "stdout",
     "output_type": "stream",
     "text": [
      "['2019arXiv190100381H']\n"
     ]
    }
   ],
   "source": [
    "i = 2\n",
    "print(tree.xpath('/html/body/form[1]/table[2]//tr[{}]/td[2]/a/text()'.format(i*3 + 1)))"
   ]
  },
  {
   "cell_type": "code",
   "execution_count": 8,
   "metadata": {
    "slideshow": {
     "slide_type": "slide"
    }
   },
   "outputs": [
    {
     "name": "stdout",
     "output_type": "stream",
     "text": [
      "['http://adsabs.harvard.edu/cgi-bin/nph-data_query?bibcode=2019arXiv190100381H&db_key=PRE&link_type=ABSTRACT&high=5c4c302ba231138']\n"
     ]
    }
   ],
   "source": [
    "print(tree.xpath('/html/body/form[1]/table[2]//tr[{}]/td[2]/a/@href'.format(i*3 + 1)))"
   ]
  },
  {
   "cell_type": "code",
   "execution_count": 9,
   "metadata": {
    "slideshow": {
     "slide_type": "slide"
    }
   },
   "outputs": [
    {
     "name": "stdout",
     "output_type": "stream",
     "text": [
      "['1.000']\n"
     ]
    }
   ],
   "source": [
    "print(tree.xpath('/html/body/form[1]/table[2]//tr[{}]/td[4]/text()'.format(i*3 + 1)))"
   ]
  },
  {
   "cell_type": "code",
   "execution_count": 10,
   "metadata": {
    "slideshow": {
     "slide_type": "slide"
    }
   },
   "outputs": [
    {
     "name": "stdout",
     "output_type": "stream",
     "text": [
      "['12/2018']\n"
     ]
    }
   ],
   "source": [
    "print(tree.xpath('/html/body/form[1]/table[2]//tr[{}]/td[5]/text()'.format(i*3 + 1)))"
   ]
  },
  {
   "cell_type": "code",
   "execution_count": 12,
   "metadata": {
    "slideshow": {
     "slide_type": "slide"
    }
   },
   "outputs": [
    {
     "name": "stdout",
     "output_type": "stream",
     "text": [
      "['A', 'X', 'R', 'C', 'U']\n"
     ]
    }
   ],
   "source": [
    "print(tree.xpath('/html/body/form[1]/table[2]//tr[{}]/td[6]/a/text()'.format(i*3 + 1)))"
   ]
  },
  {
   "cell_type": "code",
   "execution_count": 13,
   "metadata": {
    "slideshow": {
     "slide_type": "slide"
    }
   },
   "outputs": [
    {
     "name": "stdout",
     "output_type": "stream",
     "text": [
      "['http://adsabs.harvard.edu/cgi-bin/nph-data_query?bibcode=2019arXiv190100381H&db_key=PRE&link_type=ABSTRACT&high=5c4c302ba231138', 'http://adsabs.harvard.edu/cgi-bin/nph-data_query?bibcode=2019arXiv190100381H&db_key=PRE&link_type=PREPRINT', 'http://adsabs.harvard.edu/cgi-bin/nph-data_query?bibcode=2019arXiv190100381H&db_key=PRE&link_type=REFERENCES', 'http://adsabs.harvard.edu/cgi-bin/nph-data_query?bibcode=2019arXiv190100381H&db_key=PRE&link_type=AR']\n"
     ]
    }
   ],
   "source": [
    "print(tree.xpath('/html/body/form[1]/table[2]//tr[{}]/td[6]/a/@href'.format(i*3 + 1)))"
   ]
  },
  {
   "cell_type": "code",
   "execution_count": null,
   "metadata": {
    "slideshow": {
     "slide_type": "slide"
    }
   },
   "outputs": [],
   "source": [
    "print(tree.xpath('/html/body/form[1]/table[2]//tr[{}]/td[2]/text()'.format(i*3 + 2)))"
   ]
  },
  {
   "cell_type": "code",
   "execution_count": null,
   "metadata": {
    "slideshow": {
     "slide_type": "slide"
    }
   },
   "outputs": [],
   "source": [
    "print(tree.xpath('/html/body/form[1]/table[2]//tr[{}]/td[4]/text()'.format(i*3 + 2)))"
   ]
  },
  {
   "cell_type": "code",
   "execution_count": 14,
   "metadata": {
    "slideshow": {
     "slide_type": "slide"
    }
   },
   "outputs": [
    {
     "name": "stdout",
     "output_type": "stream",
     "text": [
      "['Dealing with Limited Backhaul Capacity in Millimeter Wave Systems: A Deep Reinforcement Learning Approach']\n",
      "['Microscopic 3D measurement of shiny surfaces based on a multi-frequency phase-shifting scheme']\n",
      "[\"Observation and study of $J/psi\\rightarrowphietaeta'$ at BESIII\"]\n",
      "['Thermally activated flux flow, vortex-glass phase transition and the mixed-state Hall effect in 112-type iron pnictide superconductors']\n",
      "['Preface to the topical issue']\n",
      "['Superfluid-superradiant mixed phase of the interacting degenerate Fermi gas in an optical cavity']\n",
      "[\"Search for Subsolar-Mass Ultracompact Binaries in Advanced LIGO's First Observing Run\"]\n",
      "['Structures and diffusion of two-dimensional dusty plasmas on one-dimensional periodic substrates']\n",
      "['Phonon spectra of two-dimensional liquid dusty plasmas on a one-dimensional periodic substrate']\n",
      "['Gas outflows from the z = 7.54 quasar: predictions from the BLUETIDES simulation']\n",
      "['An efficient and accurate hybrid method for simulating non-linear neutrino structure']\n",
      "['A single-station empirical TEC model based on long-time recorded GPS data for estimating ionospheric delay']\n",
      "['Origin of the Neoproterozoic Fulu iron formation, South China: Insights from iron isotopes and rare earth element patterns']\n",
      "['Triple sulfur isotope relationships during sulfate-driven anaerobic oxidation of methane']\n",
      "['An equivalence theorem for a class of Minkowski spaces']\n",
      "['Over- and Under-Approximating Reachable Sets for Perturbed Delay Differential Equations']\n",
      "['Searches for Continuous Gravitational Waves from Fifteen Supernova Remnants and Fomalhaut b with Advanced LIGO']\n",
      "['Adaptation in multivariate log-concave density estimation']\n",
      "['Beam with Adaptive Divergence Angle in Free-Space Optical Communications for High-Speed Trains']\n",
      "['Anomalies of upper critical field in the spinel superconductor LiTi$_2$O$_{4-delta}$']\n",
      "['Quantum computation with universal error mitigation on superconducting quantum processor']\n",
      "['Measurement of the absolute branching fractions of $Lambda_{c}^{+}\\toLambdaetapi^{+}$ and $Sigma(1385)^{+}eta$']\n",
      "['Centrality and transverse momentum dependence of $D^0$-meson production at mid-rapidity in Au+Au collisions at ${sqrt{s_{\\rm NN}} = \\rm{200,GeV}}$']\n",
      "['Similarity R-C3D for Few-shot Temporal Activity Detection']\n",
      "['VMAV-C: A Deep Attention-based Reinforcement Learning Algorithm for Model-based Control']\n",
      "['Observation of Strong Terahertz Radiation from a Liquid Water Line']\n",
      "['QED self energies from lattice QCD without power-law finite-volume errors']\n",
      "['Observation of $e^+e^- \\rightarrow D_s^+ overline{D}{}^{(*)0} K^-$ and study of the $P$-wave $D_s$ mesons']\n",
      "['Distant Supervision for Relation Extraction with Linear Attenuation Simulation and Non-IID Relevance Embedding']\n",
      "['Technical Proposal for FASER: ForwArd Search ExpeRiment at the LHC']\n",
      "['Nearly-Linear Time Spectral Graph Reduction for Scalable Graph Partitioning and Data Visualization']\n",
      "['Passive thermal fine-tuning of whispering gallery mode for nonlinear optics in a microcavity']\n",
      "['The quantum nature of hydrogen']\n",
      "[\"Discriminative analysis of the human cortex using spherical CNNs - a study on Alzheimer's disease diagnosis\"]\n",
      "['Rheology of Thickly-Coated Granular-Fluid Systems']\n",
      "['Auto-tuning Neural Network Quantization Framework for Collaborative Inference Between the Cloud and Edge']\n",
      "['Observation of $psi(3686) \\to p bar{p} eta^{prime}$ and improved measurement of $J/psi \\to p bar{p} eta^{prime}$']\n",
      "['When to Preempt? Age of Information Minimization under Link Capacity Constraint']\n",
      "['Experimental Realization of Multiple Topological Edge States in a One-Dimensional Photonic Lattice']\n",
      "['Measurements of the absolute branching fractions and $CP$ asymmetries for $D^+\\rightarrow K_{S,L}^0 K^+(pi^0)$']\n",
      "['On the generation mechanism of electromagnetic cyclotron waves in the solar wind: statistical results from Wind observations']\n",
      "['Three-dimensional nanoprinting via charged aerosol focusing']\n",
      "['The use of strain to tailor electronic thermoelectric transport properties: A first principles study of 2H-phase CuAlO2']\n",
      "['CFUN: Combining Faster R-CNN and U-net Network for Efficient Whole Heart Segmentation']\n",
      "['Measurement of the longitudinal spin asymmetries for weak boson production in proton-proton collisions at $sqrt{s}$ = 510 GeV']\n",
      "['Dual quantum confinement and anisotropic spin splitting in the multi-valley semimetal PtSe$_2$']\n",
      "['Ion-crystal demonstration of structural phase transition induced solely by temperature']\n",
      "['Excitonic Complexes and Optical Gain in Two-Dimensional Molybdenum Ditelluride Well below Mott Transition']\n",
      "['Multi-breathers and high order rogue waves for the nonlinear Schr\"odinger equation on the elliptic function background']\n",
      "['Towards Scalable Spectral Sparsification of Directed Graphs']\n",
      "['Chat-crowd: A Dialog-based Platform for Visual Layout Composition']\n",
      "['A context-based geoprocessing framework for optimizing meetup location of multiple moving objects along road networks']\n",
      "['Observations on a series of merging magnetic flux ropes within an interplanetary coronal mass ejection']\n",
      "['SANTIS: Sampling-Augmented Neural neTwork with Incoherent Structure for MR image reconstruction']\n",
      "['Generalized Batch Normalization: Towards Accelerating Deep Neural Networks']\n",
      "['Evidence for Optically Thick, Eddington-limited Winds Driven by Supercritical Accretion']\n",
      "['A Container-based DoS Attack-Resilient Control Framework for Real-Time UAV Systems']\n",
      "['Frequency-degenerate multi-photon entangled state generation with silicon']\n",
      "['Few-shot Object Detection via Feature Reweighting']\n",
      "['Rapid 3D Reconstruction of Indoor Environments to Generate Virtual Reality Serious Games Scenarios']\n",
      "['Brain Tumor Segmentation using an Ensemble of 3D U-Nets and Overall Survival Prediction using Radiomic Features']\n",
      "['AsyncQVI: Asynchronous-Parallel Q-Value Iteration for Reinforcement Learning with Near-Optimal Sample Complexity']\n",
      "['Two-dimensional spin-valley-coupled Dirac semimetals in functionalized SbAs monolayers']\n",
      "['PVRNet: Point-View Relation Neural Network for 3D Shape Recognition']\n",
      "['Models of vacuum energy interacting with cold dark matter: Constraints and comparison']\n",
      "['Resolvent asymptotic expansions of fourth order Schr\"odinger operators with resonances at zero threshold']\n",
      "['The Twist Profile in the Cross Section of Interplanetary Magnetic Clouds']\n",
      "['The Merging of Two Stream Interaction Regions within 1 au: The Possible Role of Magnetic Reconnection']\n",
      "['Magnetohydrodynamic Simulation of the X9.3 Flare on 2017 September 6: Evolving Magnetic Topology']\n",
      "['Prospective White-light Imaging and In Situ Measurements of Quiescent Large-scale Solar-wind Streams from the Parker Solar Probe and Solar Orbiter']\n",
      "['The Three Hundred Project: The Influence of Environment on Simulated Galaxy Properties']\n",
      "['Statistical Study of ICMEs with Low Mean Carbon Charge State Plasmas Detected from 1998 to 2011']\n",
      "['Improved retrievals of carbon dioxide from Orbiting Carbon Observatory-2 with the version 8 ACOS algorithm']\n",
      "['An improved augmented X-ray pulsar navigation algorithm based on the norm of pulsar direction error']\n",
      "['Quantum-behaved particle swarm optimization for far-distance rapid cooperative rendezvous between two spacecraft']\n",
      "['Radiative effect and climate impacts of brown carbon with the Community Atmosphere Model (CAM5)']\n",
      "['Extreme HBL behavior of Markarian 501 during 2012']\n",
      "['VizieR Online Data Catalog: Radial velocities & photometry of the K dwarf HD26965 (Diaz+, 2018)']\n",
      "['An innovative model for the transient response of a spherical thin-shell transducer and an experimental confirmation']\n",
      "['Some globally conserved currents from generalized Killing vectors and scalar test fields']\n",
      "['Band structure theory of the bcc to hcp Burgers distortion']\n",
      "['Interplay between Kitaev interaction and single ion anisotropy in ferromagnetic CrI', ' and CrGeTe', ' monolayers']\n",
      "[\"A candidate super-Earth planet orbiting near the snow line of Barnard's star\"]\n",
      "['Surveying the implications of generalized vortical dynamics in curved space-time']\n",
      "['Halo occupation distribution (HOD) modelling of high redshift galaxies using the BlueTides simulation']\n",
      "['Double longitudinal-spin asymmetries in J/psi production at RHIC']\n",
      "['A gradient based method for modeling baryons and matter in halos of fast simulations']\n",
      "['A High-Frequency Distance Metric in Ground-Motion Prediction Equations Based on Seismic Array Backprojections']\n",
      "['Upward Frequency Sweeping Due to the Nonlinear Resonance of Multiwave Coupling and Its Significant Contribution to the Hall Effect at the Reconnection Point']\n",
      "['Muon conversion to electron in nuclei within the BLMSSM']\n",
      "['Binary Black Hole Population Properties Inferred from the First and Second Observing Runs of Advanced LIGO and Advanced Virgo']\n",
      "['GWTC-1: A Gravitational-Wave Transient Catalog of Compact Binary Mergers Observed by LIGO and Virgo during the First and Second Observing Runs']\n",
      "['A Longitudinal Study of Identifying and Paying Down Architectural Debt']\n",
      "['Graph-Based Global Reasoning Networks']\n",
      "[\"FASER's Physics Reach for Long-Lived Particles\"]\n",
      "['Joint Service Pricing and Cooperative Relay Communication for Federated Learning']\n",
      "['Deep learning based automatic segmentation of lumbosacral nerves on non-contrast CT for radiographic evaluation: a pilot study']\n",
      "['MeshNet: Mesh Neural Network for 3D Shape Representation']\n",
      "['DeepMapping: Unsupervised Map Estimation From Multiple Point Clouds']\n",
      "['Study of the decay $D^0\\rightarrow bar{K}^0pi^-e^+\\nu_e$']\n",
      "['Determination of the pseudoscalar decay constant $f_{D_s^+}$ via $D_s^+\\tomu^+\\nu_mu$']\n",
      "['Unsupervised Image Captioning']\n",
      "['A Multi-step Piecewise Linear Approximation Based Solution for Load Pick-up Problem in Electrical Distribution System']\n",
      "['Letter of Intent for FASER: ForwArd Search ExpeRiment at the LHC']\n",
      "['Object Detection based Deep Unsupervised Hashing']\n",
      "['Explicit Interaction Model towards Text Classification']\n",
      "['Prediction of Cytochrome P450-Mediated Metabolism Using a Combination of QSAR Derived Reactivity and Induced Fit Docking']\n",
      "['A speculation about a puzzled result in energy spectrum of cosmic-ray electrons around TeV energies']\n",
      "['Oxygen-Octahedral-Tilting-Driven Topological Hall Effect in Ultrathin SrRuO3 Films']\n",
      "['Measurement of $e^{+} e^{-} \\rightarrow K^{+} K^{-}$ cross section at $sqrt{s} = 2.00 - 3.08$ GeV']\n",
      "['Positive Kobayashi curvature metrics on ample vector bundles']\n",
      "['Faster First-Order Methods for Stochastic Non-Convex Optimization on Riemannian Manifolds']\n",
      "['A Deep Neural Network for Unsupervised Anomaly Detection and Diagnosis in Multivariate Time Series Data']\n",
      "['Evidence for the decays of $Lambda^+_{c}\\toSigma^+eta$ and $Sigma^+eta^prime$']\n",
      "['Polarization evolution dynamics of dissipative soliton fiber laser']\n",
      "['A Self-Adaptive Network For Multiple Sclerosis Lesion Segmentation From Multi-Contrast MRI With Various Imaging Protocols']\n",
      "[\"Boosting the Robustness Verification of DNN by Identifying the Achilles's Heel\"]\n",
      "['Learning to Predict the Cosmological Structure Formation']\n",
      "['GaitSet: Regarding Gait as a Set for Cross-View Gait Recognition']\n",
      "['Topological Magneto-Optical Effect and its Quantization in Noncoplanar Antiferromagnets']\n",
      "['Multi-Winner Contests for Strategic Diffusion in Social Networks']\n",
      "['An Orchestrated Empirical Study on Deep Learning Frameworks and Platforms']\n",
      "['Strong convergence of a fully discrete finite element method for a class of semilinear stochastic partial differential equations with multiplicative noise']\n",
      "['Quantum Reflection above the Classical Radiation-reaction Barrier in the QED Regime']\n",
      "['Time synchronization in vehicular ad-hoc networks: A survey ontheory and practice']\n",
      "['Push-pull direct modeling of solid CAD models']\n",
      "['Dating glacier ice of the last millennium by quantum technology']\n",
      "['Encoding Implicit Relation Requirements for Relation Extraction: A Joint Inference Approach']\n",
      "['Adaptive Semantic Segmentation with a Strategic Curriculum of Proxy Labels']\n",
      "['Holographic Complexity Growth Rate in Horndeski Theory']\n",
      "['First measurement of the form factors in $D^+_{s}\\rightarrow K^0 e^+\\nu_e$ and $D^+_{s}\\rightarrow K^{*0} e^+\\nu_e$ decays']\n",
      "['Deep Reinforcement Learning based Modulation and Coding Scheme Selection in Cognitive Heterogeneous Networks']\n",
      "['Linear magnetoresistance in the low-field limit in density-wave materials']\n",
      "['GNSS Time Synchronization in Vehicular Ad-Hoc Networks: Benefits and Feasibility']\n",
      "['Identifying the Best Machine Learning Algorithms for Brain Tumor Segmentation, Progression Assessment, and Overall Survival Prediction in the BRATS Challenge']\n",
      "['Neural Phrase-to-Phrase Machine Translation']\n",
      "['UNIT project: Universe $N$-body simulations for the Investigation of Theoretical models from galaxy surveys']\n",
      "['Reinforcement Learning based Dynamic Model Selection for Short-Term Load Forecasting']\n",
      "['High-speed and high-responsivity hybrid silicon/black-phosphorus waveguide photodetectors at 2 {mu}m']\n",
      "['Neural CRF transducers for sequence labeling']\n",
      "['Elastic CRFs for Open-ontology Slot Filling']\n",
      "['Relation Mention Extraction from Noisy Data with Hierarchical Reinforcement Learning']\n",
      "['Observation of $D^+_s\\rightarrow pbar{n}$ and confirmation of its large branching fraction']\n",
      "['Improving the Robustness of Speech Translation']\n",
      "['Modeling Attention Flow on Graphs']\n",
      "['Observation of the $W$-Annihilation Decay $D^{+}_{s} \\rightarrow omega pi^{+}$ and Evidence for $D^{+}_{s} \\rightarrow omega K^{+}$']\n",
      "['Tests of General Relativity with GW170817']\n",
      "['A Cascaded Channel-Power Allocation for D2D Underlaid Cellular Networks Using Matching Theory']\n",
      "['Looking for the Gluon Condensation Signature in Protons Using the Earth-limb Gamma-Ray Spectra']\n",
      "['Mechanical Feedback from Black Hole Accretion as an Energy Source of Core-collapse Supernova Explosions']\n",
      "['Solar Coronal Modeling by Path-conservative HLLEM Riemann Solver']\n",
      "['The semi-analytical analysis of orbital evolution around an asteroid under the effects of the C', \" term, the solar radiation pressure and the asteroid's orbital eccentricity\"]\n",
      "['Numerical study of the reconnection process between magnetic cloud and heliospheric current sheet']\n",
      "['Interpretation of the DAMPE 1.4 TeV peak according to the decaying dark matter model']\n",
      "['Dark Matter Particle Explorer observations of high-energy cosmic ray electrons plus positrons and their physical implications']\n",
      "['GW170817: Measurements of Neutron Star Radii and Equation of State']\n",
      "['Topological multiband photonic superlattices']\n",
      "['Automatic Detection of Sunspots on Full-disk Solar Images using the Simulated Annealing Genetic Method']\n",
      "['Supercharge optical arrays']\n",
      "['Cosmological reconstruction from galaxy light: neural network based light-matter connection']\n",
      "['Phonon anharmonic frequency shift induced by four-phonon scattering calculated from first principles']\n",
      "['Linkage Between Westerly Wind Bursts and Tropical Cyclones']\n",
      "['Stronger Contributions of Urbanization to Heat Wave Trends in Wet Climates']\n",
      "['Oceanic redox condition during the late Ediacaran (551-541 Ma), South China']\n",
      "['Calcium isotope evidence for subduction-enriched lithospheric mantle under the northern North China Craton']\n",
      "['Calibration of advanced Virgo and reconstruction of the gravitational wave signal h(t) during the observing run O2']\n",
      "['GWAC 181017A: Independently discovery of an outburst of a dwarf nova with an amplitude of 5.5 mag by GWAC']\n",
      "['DeepDPM: Dynamic Population Mapping via Deep Neural Network']\n",
      "['Improving ICS Cyber Resilience through Optimal Diversification of Network Resources']\n",
      "['ARPES and STM view of heavy-electron quantum criticality: perspectives and challenges']\n",
      "['Face Presentation Attack Detection in Learned Color-liked Space']\n",
      "['Matching Game Based Framework for Two-Timescale Cooperative D2D Communication']\n",
      "['Quantum coherence control at near 1000 K']\n",
      "['On the error analyses of polarization measurements of the white-light coronagraph aboard ASO-S']\n",
      "['First observations of $h_c \\to$ hadrons']\n",
      "['$A^2$-Nets: Double Attention Networks']\n",
      "['Prey selection of Amur tigers in relation to the spatiotemporal overlap with prey across the Sino-Russian border']\n",
      "['Effects of free-ranging livestock on sympatric herbivores at fine spatiotemporal scales']\n",
      "['The Decay Rate of Patterson-Sullivan Measures with Potential Functions and Critical Exponents']\n",
      "['Perceptual Visual Interactive Learning']\n",
      "['Searching for GeV gamma-ray emission from the bulge of M31']\n",
      "['Search for Multi-messenger Sources of Gravitational Waves and High-energy Neutrinos with Advanced LIGO during its first Observing Run, ANTARES and IceCube']\n",
      "['Observation of OZI suppressed decays $chi_{cJ}\\toomegaphi$']\n",
      "['Improving Stock Movement Prediction with Adversarial Training']\n",
      "['What can AI do for me: Evaluating Machine Learning Interpretations in Cooperative Play']\n",
      "['Post-earthquake modelling of transportation networks using an agent-based model']\n",
      "['A proposal on complementary determination of the electro-weak mixing angles ${\\rm sin^2\\theta_W}$ at a super Z-factory']\n",
      "['Nodal Manifolds Bounded by Exceptional Points on Non-Hermitian Honeycomb Lattices and Electrical-Circuit Realizations']\n",
      "['The Hessenberg matrices and Catalan and its generalized numbers']\n",
      "['The remaining parts for the long-standing J/psi polarization puzzle']\n",
      "['On $s$-distance-transitive graphs']\n",
      "['Autocorrelation of quasiparticle spectral intensities and its connection with quasiparticle scattering interference in cuprate superconductors']\n",
      "['To Compress, or Not to Compress: Characterizing Deep Learning Model Compression for Embedded Inference']\n",
      "['The Effects of Using Taxi-Hailing Application on Driving Performance']\n",
      "['Isotropic Magnetic Purcell Effect']\n",
      "['Understanding Phonon Scattering by Nano-Precipitates in Potassium-Doped Lead Chalcogenides']\n",
      "[\"The Effect of Whole-Body Haptic Feedback on Driver's Perception in Negotiating a Curve\"]\n",
      "['A note on backward stochastic differential equation with generator $f(y)|z|^2$']\n",
      "['LRW-1000: A Naturally-Distributed Large-Scale Benchmark for Lip Reading in the Wild']\n"
     ]
    }
   ],
   "source": [
    "for i in range(1,200):\n",
    "    print(tree.xpath('/html/body/form[1]/table[2]//tr[{}]/td[4]/text()'.format(i*3 + 2)))"
   ]
  },
  {
   "cell_type": "code",
   "execution_count": 15,
   "metadata": {},
   "outputs": [
    {
     "data": {
      "text/plain": [
       "[]"
      ]
     },
     "execution_count": 15,
     "metadata": {},
     "output_type": "execute_result"
    }
   ],
   "source": [
    "tree.xpath('/html/body/form[1]/table[1]/tbody/tr/td[1]/strong[3]')"
   ]
  }
 ],
 "metadata": {
  "celltoolbar": "Slideshow",
  "kernelspec": {
   "display_name": "Python 3",
   "language": "python",
   "name": "python3"
  },
  "language_info": {
   "codemirror_mode": {
    "name": "ipython",
    "version": 3
   },
   "file_extension": ".py",
   "mimetype": "text/x-python",
   "name": "python",
   "nbconvert_exporter": "python",
   "pygments_lexer": "ipython3",
   "version": "3.6.3"
  }
 },
 "nbformat": 4,
 "nbformat_minor": 2
}
